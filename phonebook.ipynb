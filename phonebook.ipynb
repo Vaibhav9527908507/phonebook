{
 "cells": [
  {
   "cell_type": "code",
   "execution_count": 1,
   "id": "c8e0ed87-ff5f-4b0b-8d19-97b51ed81a66",
   "metadata": {},
   "outputs": [],
   "source": [
    "import json\n",
    "import os\n"
   ]
  },
  {
   "cell_type": "markdown",
   "id": "88176fc2-8d90-42ca-8b0a-21a81312a0f0",
   "metadata": {},
   "source": [
    "# File to store contacts"
   ]
  },
  {
   "cell_type": "code",
   "execution_count": 2,
   "id": "ef5fb063-4514-4efd-9c39-558761cebc2c",
   "metadata": {},
   "outputs": [],
   "source": [
    "\n",
    "FILE_NAME = \"phonebook.json\"\n"
   ]
  },
  {
   "cell_type": "markdown",
   "id": "529f975c-8b81-4992-a515-832366492277",
   "metadata": {},
   "source": [
    "# Initialize phonebook data"
   ]
  },
  {
   "cell_type": "code",
   "execution_count": 9,
   "id": "f40db938-61ab-40a3-9ede-aa2bd6975aa3",
   "metadata": {},
   "outputs": [],
   "source": [
    "if not os.path.exists(FILE_NAME):\n",
    "    with open(FILE_NAME, \"w\") as f:\n",
    "        json.dump({}, f)"
   ]
  },
  {
   "cell_type": "markdown",
   "id": "ea6159ff-2534-4333-9162-be47dba7d4f1",
   "metadata": {},
   "source": [
    "# Utility Functions"
   ]
  },
  {
   "cell_type": "code",
   "execution_count": 10,
   "id": "bc28cedd-7ac4-425d-8c48-cfc2e8a168c0",
   "metadata": {},
   "outputs": [],
   "source": [
    "def load_contacts():\n",
    "    \"\"\"Load contacts from the JSON file.\"\"\"\n",
    "    with open(FILE_NAME, \"r\") as f:\n",
    "        return json.load(f)\n"
   ]
  },
  {
   "cell_type": "code",
   "execution_count": 11,
   "id": "3e83ef6a-53cb-4000-94fd-b6922afd6f84",
   "metadata": {},
   "outputs": [],
   "source": [
    "def save_contacts(contacts):\n",
    "    \"\"\"Save contacts to the JSON file.\"\"\"\n",
    "    with open(FILE_NAME, \"w\") as f:\n",
    "        json.dump(contacts, f, indent=4)\n"
   ]
  },
  {
   "cell_type": "markdown",
   "id": "c49f69b2-bab8-45ff-aa49-afeacdbd16b8",
   "metadata": {},
   "source": [
    "# Contact Operations"
   ]
  },
  {
   "cell_type": "code",
   "execution_count": 12,
   "id": "2bada579-d1bf-48f5-abd8-0c2d5e80500f",
   "metadata": {},
   "outputs": [],
   "source": [
    "def add_contact():\n",
    "    \"\"\"Add a new contact to the phonebook.\"\"\"\n",
    "    name = input(\"Enter name: \").strip()\n",
    "    if not name:\n",
    "        print(\"Name cannot be empty.\")\n",
    "        return\n",
    "\n",
    "    phone = input(\"Enter phone number: \").strip()\n",
    "    if not phone:\n",
    "        print(\"Phone number cannot be empty.\")\n",
    "        return\n",
    "\n",
    "    contacts = load_contacts()\n",
    "    if name in contacts:\n",
    "        print(\"Contact with this name already exists.\")\n",
    "        return\n",
    "\n",
    "    contacts[name] = phone\n",
    "    save_contacts(contacts)\n",
    "    print(f\"Contact '{name}' added successfully!\")\n"
   ]
  },
  {
   "cell_type": "code",
   "execution_count": 13,
   "id": "0b746205-cb91-4634-bbd4-371352ee83ab",
   "metadata": {},
   "outputs": [],
   "source": [
    "def search_contact():\n",
    "    \"\"\"Search for a contact by name.\"\"\"\n",
    "    name = input(\"Enter name to search: \").strip()\n",
    "    contacts = load_contacts()\n",
    "\n",
    "    if name in contacts:\n",
    "        print(f\"Name: {name}, Phone: {contacts[name]}\")\n",
    "    else:\n",
    "        print(f\"Contact '{name}' not found.\")"
   ]
  },
  {
   "cell_type": "code",
   "execution_count": 14,
   "id": "8eec4d24-3a1f-4811-a534-58f06f348434",
   "metadata": {},
   "outputs": [],
   "source": [
    "def update_contact():\n",
    "    \"\"\"Update an existing contact.\"\"\"\n",
    "    name = input(\"Enter name to update: \").strip()\n",
    "    contacts = load_contacts()\n",
    "\n",
    "    if name in contacts:\n",
    "        new_phone = input(f\"Enter new phone number for {name}: \").strip()\n",
    "        contacts[name] = new_phone\n",
    "        save_contacts(contacts)\n",
    "        print(f\"Contact '{name}' updated successfully!\")\n",
    "    else:\n",
    "        print(f\"Contact '{name}' not found.\")"
   ]
  },
  {
   "cell_type": "code",
   "execution_count": 15,
   "id": "6b94941a-26d2-4214-905d-778d7198bde1",
   "metadata": {},
   "outputs": [],
   "source": [
    "def delete_contact():\n",
    "    \"\"\"Delete a contact by name.\"\"\"\n",
    "    name = input(\"Enter name to delete: \").strip()\n",
    "    contacts = load_contacts()\n",
    "\n",
    "    if name in contacts:\n",
    "        del contacts[name]\n",
    "        save_contacts(contacts)\n",
    "        print(f\"Contact '{name}' deleted successfully!\")\n",
    "    else:\n",
    "        print(f\"Contact '{name}' not found.\")"
   ]
  },
  {
   "cell_type": "code",
   "execution_count": 16,
   "id": "f2f99efe-4711-4f21-9ce9-888f93e72aa8",
   "metadata": {},
   "outputs": [],
   "source": [
    "def view_all_contacts():\n",
    "    \"\"\"View all contacts in the phonebook.\"\"\"\n",
    "    contacts = load_contacts()\n",
    "    if not contacts:\n",
    "        print(\"Phonebook is empty.\")\n",
    "        return\n",
    "\n",
    "    print(\"\\nAll Contacts:\")\n",
    "    for name, phone in contacts.items():\n",
    "        print(f\"Name: {name}, Phone: {phone}\")"
   ]
  },
  {
   "cell_type": "markdown",
   "id": "afe87e0f-f92e-4078-801b-9e90d2612ae5",
   "metadata": {},
   "source": [
    "# Main Application Loop"
   ]
  },
  {
   "cell_type": "code",
   "execution_count": 17,
   "id": "1f6a6ab5-6380-4d24-868e-3493155c78b4",
   "metadata": {},
   "outputs": [],
   "source": [
    "def main():\n",
    "    \"\"\"Main function to run the phonebook application.\"\"\"\n",
    "    while True:\n",
    "        print(\"\\nPhonebook Application\")\n",
    "        print(\"1. Add Contact\")\n",
    "        print(\"2. Search Contact\")\n",
    "        print(\"3. Update Contact\")\n",
    "        print(\"4. Delete Contact\")\n",
    "        print(\"5. View All Contacts\")\n",
    "        print(\"6. Exit\")\n",
    "\n",
    "        choice = input(\"Enter your choice (1-6): \").strip()\n",
    "\n",
    "        if choice == \"1\":\n",
    "            add_contact()\n",
    "        elif choice == \"2\":\n",
    "            search_contact()\n",
    "        elif choice == \"3\":\n",
    "            update_contact()\n",
    "        elif choice == \"4\":\n",
    "            delete_contact()\n",
    "        elif choice == \"5\":\n",
    "            view_all_contacts()\n",
    "        elif choice == \"6\":\n",
    "            print(\"Exiting Phonebook. Goodbye!\")\n",
    "            break\n",
    "        else:\n",
    "            print(\"Invalid choice. Please try again.\")\n"
   ]
  },
  {
   "cell_type": "code",
   "execution_count": 18,
   "id": "0635a526-060b-4223-b023-6958d1d2e4d2",
   "metadata": {},
   "outputs": [
    {
     "name": "stdout",
     "output_type": "stream",
     "text": [
      "\n",
      "Phonebook Application\n",
      "1. Add Contact\n",
      "2. Search Contact\n",
      "3. Update Contact\n",
      "4. Delete Contact\n",
      "5. View All Contacts\n",
      "6. Exit\n"
     ]
    },
    {
     "name": "stdin",
     "output_type": "stream",
     "text": [
      "Enter your choice (1-6):  1\n",
      "Enter name:  vaibhav tayde\n",
      "Enter phone number:  9527908507\n"
     ]
    },
    {
     "name": "stdout",
     "output_type": "stream",
     "text": [
      "Contact 'vaibhav tayde' added successfully!\n",
      "\n",
      "Phonebook Application\n",
      "1. Add Contact\n",
      "2. Search Contact\n",
      "3. Update Contact\n",
      "4. Delete Contact\n",
      "5. View All Contacts\n",
      "6. Exit\n"
     ]
    },
    {
     "name": "stdin",
     "output_type": "stream",
     "text": [
      "Enter your choice (1-6):  2\n",
      "Enter name to search:  vaibhav tayde\n"
     ]
    },
    {
     "name": "stdout",
     "output_type": "stream",
     "text": [
      "Name: vaibhav tayde, Phone: 9527908507\n",
      "\n",
      "Phonebook Application\n",
      "1. Add Contact\n",
      "2. Search Contact\n",
      "3. Update Contact\n",
      "4. Delete Contact\n",
      "5. View All Contacts\n",
      "6. Exit\n"
     ]
    },
    {
     "name": "stdin",
     "output_type": "stream",
     "text": [
      "Enter your choice (1-6):  6\n"
     ]
    },
    {
     "name": "stdout",
     "output_type": "stream",
     "text": [
      "Exiting Phonebook. Goodbye!\n"
     ]
    }
   ],
   "source": [
    "###### if __name__ == \"__main__\":\n",
    "    main()"
   ]
  }
 ],
 "metadata": {
  "kernelspec": {
   "display_name": "Python 3 (ipykernel)",
   "language": "python",
   "name": "python3"
  },
  "language_info": {
   "codemirror_mode": {
    "name": "ipython",
    "version": 3
   },
   "file_extension": ".py",
   "mimetype": "text/x-python",
   "name": "python",
   "nbconvert_exporter": "python",
   "pygments_lexer": "ipython3",
   "version": "3.12.4"
  }
 },
 "nbformat": 4,
 "nbformat_minor": 5
}
